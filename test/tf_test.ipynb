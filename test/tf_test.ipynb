{
 "cells": [
  {
   "cell_type": "code",
   "execution_count": 1,
   "metadata": {},
   "outputs": [],
   "source": [
    "import tensorflow as tf"
   ]
  },
  {
   "cell_type": "code",
   "execution_count": 2,
   "metadata": {},
   "outputs": [],
   "source": [
    "x = tf.constant([1,2,3], dtype='int32')\n",
    "y = 0.9"
   ]
  },
  {
   "cell_type": "code",
   "execution_count": 3,
   "metadata": {},
   "outputs": [
    {
     "ename": "TypeError",
     "evalue": "Cannot convert 0.9 to EagerTensor of dtype int32",
     "output_type": "error",
     "traceback": [
      "\u001b[1;31m---------------------------------------------------------------------------\u001b[0m",
      "\u001b[1;31mTypeError\u001b[0m                                 Traceback (most recent call last)",
      "\u001b[1;32md:\\projects\\dart_flutter_packages\\loredart\\loredart_tensor\\test\\tf_test.ipynb Cell 3\u001b[0m in \u001b[0;36m<cell line: 1>\u001b[1;34m()\u001b[0m\n\u001b[1;32m----> <a href='vscode-notebook-cell:/d%3A/projects/dart_flutter_packages/loredart/loredart_tensor/test/tf_test.ipynb#W2sZmlsZQ%3D%3D?line=0'>1</a>\u001b[0m x\u001b[39m>\u001b[39;49my\n",
      "File \u001b[1;32mc:\\Users\\syntez\\AppData\\Local\\Programs\\Python\\Python310\\lib\\site-packages\\tensorflow\\python\\ops\\math_ops.py:1875\u001b[0m, in \u001b[0;36m_promote_dtypes_decorator.<locals>.wrapper\u001b[1;34m(x, y, *args, **kwargs)\u001b[0m\n\u001b[0;32m   1873\u001b[0m \u001b[39mdef\u001b[39;00m \u001b[39mwrapper\u001b[39m(x, y, \u001b[39m*\u001b[39margs, \u001b[39m*\u001b[39m\u001b[39m*\u001b[39mkwargs):\n\u001b[0;32m   1874\u001b[0m   x, y \u001b[39m=\u001b[39m maybe_promote_tensors(x, y)\n\u001b[1;32m-> 1875\u001b[0m   \u001b[39mreturn\u001b[39;00m fn(x, y, \u001b[39m*\u001b[39margs, \u001b[39m*\u001b[39m\u001b[39m*\u001b[39mkwargs)\n",
      "File \u001b[1;32mc:\\Users\\syntez\\AppData\\Local\\Programs\\Python\\Python310\\lib\\site-packages\\tensorflow\\python\\ops\\gen_math_ops.py:4098\u001b[0m, in \u001b[0;36mgreater\u001b[1;34m(x, y, name)\u001b[0m\n\u001b[0;32m   4096\u001b[0m \u001b[39mif\u001b[39;00m tld\u001b[39m.\u001b[39mis_eager:\n\u001b[0;32m   4097\u001b[0m   \u001b[39mtry\u001b[39;00m:\n\u001b[1;32m-> 4098\u001b[0m     _result \u001b[39m=\u001b[39m pywrap_tfe\u001b[39m.\u001b[39;49mTFE_Py_FastPathExecute(\n\u001b[0;32m   4099\u001b[0m       _ctx, \u001b[39m\"\u001b[39;49m\u001b[39mGreater\u001b[39;49m\u001b[39m\"\u001b[39;49m, name, x, y)\n\u001b[0;32m   4100\u001b[0m     \u001b[39mreturn\u001b[39;00m _result\n\u001b[0;32m   4101\u001b[0m   \u001b[39mexcept\u001b[39;00m _core\u001b[39m.\u001b[39m_NotOkStatusException \u001b[39mas\u001b[39;00m e:\n",
      "\u001b[1;31mTypeError\u001b[0m: Cannot convert 0.9 to EagerTensor of dtype int32"
     ]
    }
   ],
   "source": [
    "x>y"
   ]
  }
 ],
 "metadata": {
  "kernelspec": {
   "display_name": "Python 3",
   "language": "python",
   "name": "python3"
  },
  "language_info": {
   "codemirror_mode": {
    "name": "ipython",
    "version": 3
   },
   "file_extension": ".py",
   "mimetype": "text/x-python",
   "name": "python",
   "nbconvert_exporter": "python",
   "pygments_lexer": "ipython3",
   "version": "3.10.5"
  },
  "orig_nbformat": 4,
  "vscode": {
   "interpreter": {
    "hash": "0f97c95adce1139670ba8b8b0e955a1fcfa9a52677dd343e8566b57a4d878b18"
   }
  }
 },
 "nbformat": 4,
 "nbformat_minor": 2
}
